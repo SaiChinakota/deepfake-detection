{
  "nbformat": 4,
  "nbformat_minor": 0,
  "metadata": {
    "colab": {
      "provenance": []
    },
    "kernelspec": {
      "name": "python3",
      "display_name": "Python 3"
    },
    "language_info": {
      "name": "python"
    }
  },
  "cells": [
    {
      "cell_type": "code",
      "execution_count": 1,
      "metadata": {
        "colab": {
          "base_uri": "https://localhost:8080/"
        },
        "id": "eALp9RRcUkR4",
        "outputId": "7ea07aa2-85a5-4967-d0ff-289dcbb88fe1"
      },
      "outputs": [
        {
          "output_type": "stream",
          "name": "stdout",
          "text": [
            "Drive already mounted at /content/drive; to attempt to forcibly remount, call drive.mount(\"/content/drive\", force_remount=True).\n"
          ]
        }
      ],
      "source": [
        "#Mount our google drive\n",
        "from google.colab import drive\n",
        "drive.mount('/content/drive')\n",
        "\n",
        "import glob\n",
        "import os\n",
        "import pandas as pd\n",
        "\n"
      ]
    },
    {
      "cell_type": "code",
      "source": [
        "fake_face_folders = ['/content/drive/My Drive/Pre_processed/pre_Celeb_fake_face', '/content/drive/My Drive/Pre_processed/pre_dfdc_fake_face']\n",
        "real_face_folders = ['/content/drive/My Drive/Pre_processed/pre_Celeb_real_face', '/content/drive/My Drive/Pre_processed/pre_dfdc_real_face']\n"
      ],
      "metadata": {
        "id": "teZItRcvUq1c"
      },
      "execution_count": 2,
      "outputs": []
    },
    {
      "cell_type": "code",
      "source": [
        "file_names = []\n",
        "labels = []\n"
      ],
      "metadata": {
        "id": "o_XPTQzCUuCY"
      },
      "execution_count": 3,
      "outputs": []
    },
    {
      "cell_type": "code",
      "source": [
        "for folder in fake_face_folders:  # Use a for loop to iterate over the list\n",
        "    for filename in glob.glob(folder + '/*.mp4'):\n",
        "        file_name = os.path.basename(filename)  # Extract file name from full path\n",
        "        file_names.append(file_name)\n",
        "        labels.append('FAKE')\n",
        "\n",
        "\n"
      ],
      "metadata": {
        "id": "1vR1H2goUy0f"
      },
      "execution_count": 4,
      "outputs": []
    },
    {
      "cell_type": "code",
      "source": [
        "for folder in real_face_folders:\n",
        "    for filename in glob.glob(folder + '/*.mp4'):\n",
        "        file_name = os.path.basename(filename)  # Extract file name from full path\n",
        "        file_names.append(file_name)\n",
        "        labels.append('REAL')"
      ],
      "metadata": {
        "id": "ZQz6DjlLU16Y"
      },
      "execution_count": 5,
      "outputs": []
    },
    {
      "cell_type": "code",
      "source": [
        "data = {'file': file_names, 'label': labels}\n",
        "df = pd.DataFrame(data)\n"
      ],
      "metadata": {
        "id": "gba0CnZhU8Zc"
      },
      "execution_count": 6,
      "outputs": []
    },
    {
      "cell_type": "code",
      "source": [
        "df.to_csv('/content/drive/My Drive/metadata.csv', index=False)\n",
        "\n"
      ],
      "metadata": {
        "id": "MN2QuU5PVImy"
      },
      "execution_count": 7,
      "outputs": []
    }
  ]
}